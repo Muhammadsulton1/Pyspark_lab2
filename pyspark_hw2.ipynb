{
  "nbformat": 4,
  "nbformat_minor": 0,
  "metadata": {
    "colab": {
      "provenance": [],
      "authorship_tag": "ABX9TyNdmRHJN8KC9GxELtQqExa2",
      "include_colab_link": true
    },
    "kernelspec": {
      "name": "python3",
      "display_name": "Python 3"
    },
    "language_info": {
      "name": "python"
    }
  },
  "cells": [
    {
      "cell_type": "markdown",
      "metadata": {
        "id": "view-in-github",
        "colab_type": "text"
      },
      "source": [
        "<a href=\"https://colab.research.google.com/github/Muhammadsulton1/Pyspark_lab2/blob/main/pyspark_hw2.ipynb\" target=\"_parent\"><img src=\"https://colab.research.google.com/assets/colab-badge.svg\" alt=\"Open In Colab\"/></a>"
      ]
    },
    {
      "cell_type": "code",
      "execution_count": null,
      "metadata": {
        "colab": {
          "base_uri": "https://localhost:8080/"
        },
        "id": "HMnjCQQxRNJB",
        "outputId": "246628c9-d445-45bd-9ab1-448fe230299a"
      },
      "outputs": [
        {
          "output_type": "stream",
          "name": "stdout",
          "text": [
            "Mounted at /content/drive\n"
          ]
        }
      ],
      "source": [
        "from google.colab import drive\n",
        "drive.mount('/content/drive')"
      ]
    },
    {
      "cell_type": "code",
      "source": [
        "!pip install pyspark\n",
        "!pip install -U -q PyDrive\n",
        "!apt install openjdk-8-jdk-headless -qq\n",
        "import os\n",
        "os.environ[\"JAVA_HOME\"] = \"/usr/lib/jvm/java-8-openjdk-amd64\""
      ],
      "metadata": {
        "colab": {
          "base_uri": "https://localhost:8080/"
        },
        "id": "n46xz8pTRSQv",
        "outputId": "4da9b48b-41b7-494e-97c3-0058a483aaec"
      },
      "execution_count": null,
      "outputs": [
        {
          "output_type": "stream",
          "name": "stdout",
          "text": [
            "Looking in indexes: https://pypi.org/simple, https://us-python.pkg.dev/colab-wheels/public/simple/\n",
            "Collecting pyspark\n",
            "  Downloading pyspark-3.3.1.tar.gz (281.4 MB)\n",
            "\u001b[K     |████████████████████████████████| 281.4 MB 39 kB/s \n",
            "\u001b[?25hCollecting py4j==0.10.9.5\n",
            "  Downloading py4j-0.10.9.5-py2.py3-none-any.whl (199 kB)\n",
            "\u001b[K     |████████████████████████████████| 199 kB 55.8 MB/s \n",
            "\u001b[?25hBuilding wheels for collected packages: pyspark\n",
            "  Building wheel for pyspark (setup.py) ... \u001b[?25l\u001b[?25hdone\n",
            "  Created wheel for pyspark: filename=pyspark-3.3.1-py2.py3-none-any.whl size=281845512 sha256=3f8fb409d88f11954bfa4d26919d32ce10efa11dc23135122165dc27b6721c0d\n",
            "  Stored in directory: /root/.cache/pip/wheels/43/dc/11/ec201cd671da62fa9c5cc77078235e40722170ceba231d7598\n",
            "Successfully built pyspark\n",
            "Installing collected packages: py4j, pyspark\n",
            "Successfully installed py4j-0.10.9.5 pyspark-3.3.1\n",
            "The following package was automatically installed and is no longer required:\n",
            "  libnvidia-common-460\n",
            "Use 'apt autoremove' to remove it.\n",
            "The following additional packages will be installed:\n",
            "  openjdk-8-jre-headless\n",
            "Suggested packages:\n",
            "  openjdk-8-demo openjdk-8-source libnss-mdns fonts-dejavu-extra\n",
            "  fonts-ipafont-gothic fonts-ipafont-mincho fonts-wqy-microhei\n",
            "  fonts-wqy-zenhei fonts-indic\n",
            "The following NEW packages will be installed:\n",
            "  openjdk-8-jdk-headless openjdk-8-jre-headless\n",
            "0 upgraded, 2 newly installed, 0 to remove and 20 not upgraded.\n",
            "Need to get 36.6 MB of archives.\n",
            "After this operation, 143 MB of additional disk space will be used.\n",
            "Selecting previously unselected package openjdk-8-jre-headless:amd64.\n",
            "(Reading database ... 124016 files and directories currently installed.)\n",
            "Preparing to unpack .../openjdk-8-jre-headless_8u352-ga-1~18.04_amd64.deb ...\n",
            "Unpacking openjdk-8-jre-headless:amd64 (8u352-ga-1~18.04) ...\n",
            "Selecting previously unselected package openjdk-8-jdk-headless:amd64.\n",
            "Preparing to unpack .../openjdk-8-jdk-headless_8u352-ga-1~18.04_amd64.deb ...\n",
            "Unpacking openjdk-8-jdk-headless:amd64 (8u352-ga-1~18.04) ...\n",
            "Setting up openjdk-8-jre-headless:amd64 (8u352-ga-1~18.04) ...\n",
            "update-alternatives: using /usr/lib/jvm/java-8-openjdk-amd64/jre/bin/orbd to provide /usr/bin/orbd (orbd) in auto mode\n",
            "update-alternatives: using /usr/lib/jvm/java-8-openjdk-amd64/jre/bin/servertool to provide /usr/bin/servertool (servertool) in auto mode\n",
            "update-alternatives: using /usr/lib/jvm/java-8-openjdk-amd64/jre/bin/tnameserv to provide /usr/bin/tnameserv (tnameserv) in auto mode\n",
            "Setting up openjdk-8-jdk-headless:amd64 (8u352-ga-1~18.04) ...\n",
            "update-alternatives: using /usr/lib/jvm/java-8-openjdk-amd64/bin/idlj to provide /usr/bin/idlj (idlj) in auto mode\n",
            "update-alternatives: using /usr/lib/jvm/java-8-openjdk-amd64/bin/wsimport to provide /usr/bin/wsimport (wsimport) in auto mode\n",
            "update-alternatives: using /usr/lib/jvm/java-8-openjdk-amd64/bin/jsadebugd to provide /usr/bin/jsadebugd (jsadebugd) in auto mode\n",
            "update-alternatives: using /usr/lib/jvm/java-8-openjdk-amd64/bin/native2ascii to provide /usr/bin/native2ascii (native2ascii) in auto mode\n",
            "update-alternatives: using /usr/lib/jvm/java-8-openjdk-amd64/bin/javah to provide /usr/bin/javah (javah) in auto mode\n",
            "update-alternatives: using /usr/lib/jvm/java-8-openjdk-amd64/bin/clhsdb to provide /usr/bin/clhsdb (clhsdb) in auto mode\n",
            "update-alternatives: using /usr/lib/jvm/java-8-openjdk-amd64/bin/xjc to provide /usr/bin/xjc (xjc) in auto mode\n",
            "update-alternatives: using /usr/lib/jvm/java-8-openjdk-amd64/bin/hsdb to provide /usr/bin/hsdb (hsdb) in auto mode\n",
            "update-alternatives: using /usr/lib/jvm/java-8-openjdk-amd64/bin/schemagen to provide /usr/bin/schemagen (schemagen) in auto mode\n",
            "update-alternatives: using /usr/lib/jvm/java-8-openjdk-amd64/bin/extcheck to provide /usr/bin/extcheck (extcheck) in auto mode\n",
            "update-alternatives: using /usr/lib/jvm/java-8-openjdk-amd64/bin/jhat to provide /usr/bin/jhat (jhat) in auto mode\n",
            "update-alternatives: using /usr/lib/jvm/java-8-openjdk-amd64/bin/wsgen to provide /usr/bin/wsgen (wsgen) in auto mode\n"
          ]
        }
      ]
    },
    {
      "cell_type": "code",
      "source": [
        "from pyspark.sql import SparkSession\n",
        "from pyspark import SparkContext, SparkConf\n",
        "import pyspark\n",
        "# create the session\n",
        "conf = SparkConf().set(\"spark.ui.port\", \"4050\")\n",
        "\n",
        "# create the context\n",
        "sc = pyspark.SparkContext(conf=conf)\n",
        "spark = SparkSession.builder.getOrCreate()"
      ],
      "metadata": {
        "id": "S3S71vGoRSS-"
      },
      "execution_count": null,
      "outputs": []
    },
    {
      "cell_type": "code",
      "source": [
        "!wget https://bin.equinox.io/c/4VmDzA7iaHb/ngrok-stable-linux-amd64.zip\n",
        "!unzip ngrok-stable-linux-amd64.zip\n",
        "get_ipython().system_raw('./ngrok http 4050 &')\n",
        "!sleep 10\n",
        "!curl -s http://localhost:4040/api/tunnels | python3 -c \\\n",
        "    \"import sys, json; print(json.load(sys.stdin)['tunnels'][0]['public_url'])\""
      ],
      "metadata": {
        "colab": {
          "base_uri": "https://localhost:8080/"
        },
        "id": "yYxmlpVfRSVU",
        "outputId": "1304e8e9-0ff6-4068-b20b-d07d89ee08fc"
      },
      "execution_count": null,
      "outputs": [
        {
          "output_type": "stream",
          "name": "stdout",
          "text": [
            "--2022-12-16 19:05:36--  https://bin.equinox.io/c/4VmDzA7iaHb/ngrok-stable-linux-amd64.zip\n",
            "Resolving bin.equinox.io (bin.equinox.io)... 54.237.133.81, 54.161.241.46, 52.202.168.65, ...\n",
            "Connecting to bin.equinox.io (bin.equinox.io)|54.237.133.81|:443... connected.\n",
            "HTTP request sent, awaiting response... 200 OK\n",
            "Length: 13832437 (13M) [application/octet-stream]\n",
            "Saving to: ‘ngrok-stable-linux-amd64.zip’\n",
            "\n",
            "ngrok-stable-linux- 100%[===================>]  13.19M  50.7MB/s    in 0.3s    \n",
            "\n",
            "2022-12-16 19:05:36 (50.7 MB/s) - ‘ngrok-stable-linux-amd64.zip’ saved [13832437/13832437]\n",
            "\n",
            "Archive:  ngrok-stable-linux-amd64.zip\n",
            "  inflating: ngrok                   \n",
            "https://808d-34-73-90-160.ngrok.io\n"
          ]
        }
      ]
    },
    {
      "cell_type": "code",
      "source": [
        "import numpy as np\n",
        "import pandas as pd\n",
        "from pyspark import SparkConf, SparkContext\n",
        "from datetime import datetime\n",
        "from pyspark.ml.feature import HashingTF, IDF, Tokenizer\n",
        "from pyspark.sql.types import StringType\n",
        "from pyspark.mllib.linalg.distributed import IndexedRow, IndexedRowMatrix\n",
        "from pyspark.mllib.linalg import Vectors"
      ],
      "metadata": {
        "id": "yKohc1PqRSXv"
      },
      "execution_count": null,
      "outputs": []
    },
    {
      "cell_type": "markdown",
      "source": [
        "#чтение данных"
      ],
      "metadata": {
        "id": "5stYwZEJkaUh"
      }
    },
    {
      "cell_type": "code",
      "source": [
        "filename_npz = '/content/drive/MyDrive/trainx16x32_0.npz'\n",
        "filename_csv = '/content/trainx16x32_100.csv'\n",
        "\n",
        "content = np.load(filename_npz)['arr_0'].astype(np.uintc)\n",
        "new_content = content[:50000]\n",
        "np.savetxt(filename_csv, new_content, fmt='%u', delimiter=\"\\t\")"
      ],
      "metadata": {
        "id": "8M8Ak80lRSZ9"
      },
      "execution_count": null,
      "outputs": []
    },
    {
      "cell_type": "markdown",
      "source": [
        "#группируем все фильмы по юзер айди в один столбец, чтобы легче было считать tf-idf и таким образом сократим количество строк"
      ],
      "metadata": {
        "id": "qEYPpUeMfHRf"
      }
    },
    {
      "cell_type": "code",
      "source": [
        "merge_watched_movie = sc.textFile('/content/trainx16x32_100.csv') \\\n",
        "            .map(lambda x: map(int, x.split())).groupByKey() \\\n",
        "            .map(lambda x : (x[0], list(x[1])))"
      ],
      "metadata": {
        "id": "XYM_BgKKVihl"
      },
      "execution_count": null,
      "outputs": []
    },
    {
      "cell_type": "code",
      "source": [
        "frame = merge_watched_movie.toDF(schema=[\"userId\", \"movieId\"])"
      ],
      "metadata": {
        "id": "BTxPMH04VnnT"
      },
      "execution_count": null,
      "outputs": []
    },
    {
      "cell_type": "code",
      "source": [
        "frame.show()"
      ],
      "metadata": {
        "colab": {
          "base_uri": "https://localhost:8080/"
        },
        "id": "HTFHCbc_WXyq",
        "outputId": "6b329719-4ada-4ed9-f59f-7ddd74c40cf3"
      },
      "execution_count": null,
      "outputs": [
        {
          "output_type": "stream",
          "name": "stdout",
          "text": [
            "+------+--------------------+\n",
            "|userId|             movieId|\n",
            "+------+--------------------+\n",
            "|     0|[16981, 23846, 27...|\n",
            "|     2|[1937, 2500, 4437...|\n",
            "|     4|[27, 25419, 30135...|\n",
            "|     6|[27518, 31483, 31...|\n",
            "|     8|[29824, 32186, 34...|\n",
            "|    10|[17393, 17827, 27...|\n",
            "|    12|[2953, 3171, 1179...|\n",
            "|    14|[26757, 26818, 27...|\n",
            "|    16|[3171, 6389, 7407...|\n",
            "|    18|[10120, 21932, 27...|\n",
            "|    20|[31911, 35072, 35...|\n",
            "|    22|[4332, 11791, 178...|\n",
            "|    24|[175, 5184, 30434...|\n",
            "|    26|[26938, 32512, 32...|\n",
            "|    28|[812, 965, 978, 1...|\n",
            "|    30|[31073, 31135, 33...|\n",
            "|    32|[2572, 3739, 3935...|\n",
            "|    34|[3902, 29491, 319...|\n",
            "|    36|[11573, 44746, 50...|\n",
            "|    38|[4515, 22242, 264...|\n",
            "+------+--------------------+\n",
            "only showing top 20 rows\n",
            "\n"
          ]
        }
      ]
    },
    {
      "cell_type": "markdown",
      "source": [
        "#функция для генерация случайного пользователя из userId."
      ],
      "metadata": {
        "id": "wizXCfWNUKt2"
      }
    },
    {
      "cell_type": "code",
      "source": [
        "def Generator(frame, n_uniq=1):\n",
        "  uniq_elements = np.unique(frame.select('userId').distinct().collect())\n",
        "  elem_number = int(np.random.choice(uniq_elements,uniq))\n",
        "  return elem_number"
      ],
      "metadata": {
        "id": "j3_2mcAITJMH"
      },
      "execution_count": null,
      "outputs": []
    },
    {
      "cell_type": "code",
      "source": [
        "user_number = Generator(frame,uniq=1)"
      ],
      "metadata": {
        "id": "pdZLZUCFUZmv"
      },
      "execution_count": null,
      "outputs": []
    },
    {
      "cell_type": "code",
      "source": [
        "user_number"
      ],
      "metadata": {
        "colab": {
          "base_uri": "https://localhost:8080/"
        },
        "id": "j3EHA9MyUhSv",
        "outputId": "bb448e6c-a90d-467b-9b1f-c4b4e77652d5"
      },
      "execution_count": null,
      "outputs": [
        {
          "output_type": "execute_result",
          "data": {
            "text/plain": [
              "28"
            ]
          },
          "metadata": {},
          "execution_count": 12
        }
      ]
    },
    {
      "cell_type": "markdown",
      "source": [
        "#считаем tf-idf для айдишников фильмов"
      ],
      "metadata": {
        "id": "Gyx0N8AIeLhA"
      }
    },
    {
      "cell_type": "code",
      "source": [
        "def calc_tf_idf(frame):\n",
        "  hashingTF = HashingTF(inputCol=\"movieId\",outputCol=\"rawFeatures\" ,numFeatures=10000)\n",
        "  tf = hashingTF.transform(frame)\n",
        "  tf.cache()\n",
        "  idf = IDF(inputCol=\"rawFeatures\", outputCol=\"features\").fit(tf)\n",
        "  tfidf = idf.transform(tf)\n",
        "  return tfidf"
      ],
      "metadata": {
        "id": "UPuOa8KaZO16"
      },
      "execution_count": null,
      "outputs": []
    },
    {
      "cell_type": "code",
      "source": [
        "tfidf = calc_tf_idf(frame)"
      ],
      "metadata": {
        "id": "u42qijjtcatw"
      },
      "execution_count": null,
      "outputs": []
    },
    {
      "cell_type": "markdown",
      "source": [
        "#считаем косинусное расстояние"
      ],
      "metadata": {
        "id": "lAtkIxjDePRA"
      }
    },
    {
      "cell_type": "code",
      "source": [
        "def calc_similarities(tfidf, rec_user_id=user_number):\n",
        "  mat = IndexedRowMatrix(\n",
        "    tfidf.select(\"userId\", \"features\")\\\n",
        "        .rdd.map(lambda row: IndexedRow(row.userId, row.features.toArray()))).toBlockMatrix()\n",
        "  cosine_matrix = mat.transpose().toIndexedRowMatrix().columnSimilarities()\n",
        "  filter_cosine = cosine_matrix.entries.filter(lambda x: x.i == rec_user_id or x.j == rec_user_id)\n",
        "  return filter_cosine"
      ],
      "metadata": {
        "id": "-1Ki7rVjadHW"
      },
      "execution_count": null,
      "outputs": []
    },
    {
      "cell_type": "code",
      "source": [
        "filter_cosine = calc_similarities(tfidf)"
      ],
      "metadata": {
        "id": "hWBii8pUdTum"
      },
      "execution_count": null,
      "outputs": []
    },
    {
      "cell_type": "markdown",
      "source": [
        "#сортируем косинусное расстояние"
      ],
      "metadata": {
        "id": "4SSbXzF6eVZv"
      }
    },
    {
      "cell_type": "code",
      "source": [
        "def sort_cosine_similarities(filter_cosine, rec_user_id=user_number):\n",
        "  sort_similarity = filter_cosine.sortBy(lambda x: x.value, ascending=False) \\\n",
        "            .map(lambda x: IndexedRow(x.j if x.i == rec_user_id else x.i,  Vectors.dense(x.value)))\n",
        "  return sort_similarity"
      ],
      "metadata": {
        "id": "BYiKdNWfazbQ"
      },
      "execution_count": null,
      "outputs": []
    },
    {
      "cell_type": "code",
      "source": [
        "sort_similarity = sort_cosine_similarities(filter_cosine)"
      ],
      "metadata": {
        "id": "VzJDw4eMddo0"
      },
      "execution_count": null,
      "outputs": []
    },
    {
      "cell_type": "code",
      "source": [
        "def take_users_id(sort_similarity):\n",
        "  user_id = []\n",
        "  for row in sort_similarity.collect():\n",
        "    user_id.append(row.index)\n",
        "    return user_id"
      ],
      "metadata": {
        "id": "LRopdiVXbaSJ"
      },
      "execution_count": null,
      "outputs": []
    },
    {
      "cell_type": "code",
      "source": [
        "user_list = take_users_id(sort_similarity)"
      ],
      "metadata": {
        "id": "EoVOIMvPdoJW"
      },
      "execution_count": null,
      "outputs": []
    },
    {
      "cell_type": "markdown",
      "source": [
        "#выдавать рекоммендации"
      ],
      "metadata": {
        "id": "HuZFOs7IebEZ"
      }
    },
    {
      "cell_type": "markdown",
      "source": [
        "#берем из order similiraty пользователей и обращаемся к датафрейму по юзер айди из frame и из него делаем пересечение и ищем то что не совпало и на основе этого делаем рекомендацию"
      ],
      "metadata": {
        "id": "gCgEKKjofE_C"
      }
    },
    {
      "cell_type": "code",
      "source": [
        "def get_recommend(user_list, rec_user_id=user_number, number_rec=30):\n",
        "  user_id = user_list[0] #передаем из отсортировоного по убыванию первый элемент, который говорит о том\n",
        "  #что файл наиболее бохожий по косинусному расстоянию\n",
        "  test_user = frame.filter(frame.userId == user_id).select(\"movieId\").rdd\n",
        "  test_user = set(test_user.collect()[0].movieId)\n",
        "  test_id = frame.filter(frame.userId == rec_user_id).select(\"movieId\").rdd\n",
        "  test_id = set(test_id.collect()[0].movieId)\n",
        "  intersect = set.intersection(test_user,test_id)\n",
        "  result = test_user - intersect\n",
        "  result = list(result)\n",
        "  if len(result) >= number_rec:\n",
        "    return result[:number_rec]\n",
        "  else:\n",
        "    print(\"doesn't exist much films to recommendation\")\n",
        "    print(\"all movies to recommendation\")\n",
        "    return result[:len(result)]"
      ],
      "metadata": {
        "id": "N5nvv3sJbaUn"
      },
      "execution_count": null,
      "outputs": []
    },
    {
      "cell_type": "code",
      "source": [
        "get_recommend(user_list)"
      ],
      "metadata": {
        "colab": {
          "base_uri": "https://localhost:8080/"
        },
        "id": "YnkFLnxBbvKv",
        "outputId": "4ee7d0bc-c09f-48d3-e33a-5dc815401a5e"
      },
      "execution_count": null,
      "outputs": [
        {
          "output_type": "execute_result",
          "data": {
            "text/plain": [
              "[212994,\n",
              " 188421,\n",
              " 213000,\n",
              " 221193,\n",
              " 221195,\n",
              " 229387,\n",
              " 208907,\n",
              " 217100,\n",
              " 126989,\n",
              " 225296,\n",
              " 221202,\n",
              " 204819,\n",
              " 229394,\n",
              " 229395,\n",
              " 225300,\n",
              " 217109,\n",
              " 225302,\n",
              " 380952,\n",
              " 221211,\n",
              " 524320,\n",
              " 229410,\n",
              " 204835,\n",
              " 229411,\n",
              " 188453,\n",
              " 237605,\n",
              " 217124,\n",
              " 221224,\n",
              " 225322,\n",
              " 380971,\n",
              " 204844]"
            ]
          },
          "metadata": {},
          "execution_count": 23
        }
      ]
    },
    {
      "cell_type": "code",
      "source": [
        "# a = [1,2,3,4,5,6]\n",
        "# b = [1,2,5,7,8,9]\n",
        "# c = set.intersection(set(a),set(b))\n",
        "# print(c)\n",
        "# print(set(a) - c)"
      ],
      "metadata": {
        "id": "9jEox9_3SVh4"
      },
      "execution_count": null,
      "outputs": []
    },
    {
      "cell_type": "code",
      "source": [],
      "metadata": {
        "id": "-EvNsPSBRvzN"
      },
      "execution_count": null,
      "outputs": []
    }
  ]
}